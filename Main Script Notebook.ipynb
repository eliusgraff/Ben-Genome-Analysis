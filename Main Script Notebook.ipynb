{
 "cells": [
  {
   "cell_type": "code",
   "execution_count": 2,
   "id": "d5f91404",
   "metadata": {},
   "outputs": [
    {
     "name": "stdout",
     "output_type": "stream",
     "text": [
      "\n",
      "\n",
      "For organism in :Example1 file\n",
      "Length: 4\tWidth: 4\n",
      "Number of Genes: 2003803\n",
      "\n",
      "\n",
      "For organism in :Example2 file\n",
      "Length: 4\tWidth: 4\n",
      "Number of Genes: 2003803\n",
      "\n",
      "\n",
      "For organism in :Example3 file\n",
      "Length: 2\tWidth: 3\n",
      "Number of Genes: 2003803\n",
      "\n",
      "\n",
      "For organism in :Example4 file\n",
      "Length: 5\tWidth: 6\n",
      "Number of Genes: 2003803\n",
      "\n",
      "\n",
      "For organism in :Example5 file\n",
      "Length: 8\tWidth: 7\n",
      "Number of Genes: 2003803\n",
      "\n",
      "\n",
      "For organism in :Example6 file\n",
      "Length: 67\tWidth: 9\n",
      "Number of Genes: 2003803\n"
     ]
    }
   ],
   "source": [
    "import os\n",
    "import pandas as pd\n",
    "import csv\n",
    "\n",
    "class organism:\n",
    "    numGenes = None\n",
    "    length = None\n",
    "    width = None\n",
    "    def __init__(self, *args):\n",
    "        if len(args) != 3: \n",
    "            raise ValueError('Not enough info to create organism')\n",
    "        self.numGenes = args[0]\n",
    "        self.length = args[1]\n",
    "        self.width = args[2]\n",
    "\n",
    "myOrganisms = {} #dictionary\n",
    "arr = os.listdir('.\\GenomeFiles\\\\') #list of all genome files\n",
    "sizes = pd.read_csv('OrgSizes.csv').set_index('Organism Name')\n",
    "\n",
    "for genomeFile in arr:\n",
    "\n",
    "    totletter = 0\n",
    "\n",
    "    with open('.\\GenomeFiles\\\\' + genomeFile) as out_file:\n",
    "        length = sizes.loc[ genomeFile[:-4] ][ 'Length' ]\n",
    "        width = sizes.loc[ genomeFile[:-4] ][ 'Width' ]\n",
    "        out_file.readline() #throw out top header line\n",
    "\n",
    "        for letters in out_file:\n",
    "            totletter = totletter + len(letters) - 1 #add length of string to total, subtract one for newline\n",
    "\n",
    "    myOrganisms[genomeFile] = organism(totletter, length, width) #add the organism to the dict\n",
    "    \n",
    "with open('OrganismData.csv', 'w') as myFile:\n",
    "    myFile.write(\"Organism Name,Number Of Genes,Length,Width\\n\")\n",
    "    for organism in myOrganisms:\n",
    "        myFile.write(organism + ',')\n",
    "        myFile.write(str(myOrganisms[organism].numGenes) + ',')\n",
    "        myFile.write(str(myOrganisms[organism].length) + ',')\n",
    "        myFile.write(str(myOrganisms[organism].width) + '\\n')\n",
    "\n",
    "#display all data\n",
    "for organism in myOrganisms:\n",
    "    print()\n",
    "    print()\n",
    "    print(\"For organism in :\" + organism[:-4] + \" file\") #printing out all but last 4 charaters of filename\n",
    "    print(\"Length: \" + str(myOrganisms[organism].length) + \"\\tWidth: \" + str(myOrganisms[organism].width))\n",
    "    print(\"Number of Genes: \" + str(myOrganisms[organism].numGenes))\n"
   ]
  },
  {
   "cell_type": "code",
   "execution_count": null,
   "id": "1b5cef94",
   "metadata": {},
   "outputs": [],
   "source": []
  }
 ],
 "metadata": {
  "kernelspec": {
   "display_name": "Python 3",
   "language": "python",
   "name": "python3"
  },
  "language_info": {
   "codemirror_mode": {
    "name": "ipython",
    "version": 3
   },
   "file_extension": ".py",
   "mimetype": "text/x-python",
   "name": "python",
   "nbconvert_exporter": "python",
   "pygments_lexer": "ipython3",
   "version": "3.8.8"
  }
 },
 "nbformat": 4,
 "nbformat_minor": 5
}
