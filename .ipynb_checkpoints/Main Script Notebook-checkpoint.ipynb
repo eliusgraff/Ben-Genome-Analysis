{
 "cells": [
  {
   "cell_type": "code",
   "execution_count": 1,
   "id": "d5f91404",
   "metadata": {},
   "outputs": [],
   "source": [
    "import os\n",
    "import pandas as pd\n",
    "\n",
    "if os.path.exists( 'AllData.csv' ): allData = pd.read_csv( 'AllData.csv' , index_col = 0 )\n",
    "else: allData = pd.DataFrame( columns = [ 'Organism Name' , 'Num Genes' , 'Length' , 'Width'] )\n",
    "arr = os.listdir('.\\GenomeFiles\\\\') #list of all genome files\n",
    "\n",
    "for genomeFile in arr:\n",
    "    orgName = genomeFile[:-4]\n",
    "    totletter = 0\n",
    "\n",
    "    with open('.\\GenomeFiles\\\\' + genomeFile) as out_file:\n",
    "        out_file.readline() #throw out top header line\n",
    "\n",
    "        for letters in out_file:\n",
    "            totletter = totletter + len(letters) - 1 #add length of string to total, subtract one for newline\n",
    "\n",
    "    if orgName in allData['Organism Name'].tolist(): continue\n",
    "\n",
    "    print(\"adding \" + orgName)\n",
    "    allData = allData.append( { 'Organism Name' : orgName , 'Num Genes' : totletter} , ignore_index = True )\n",
    "\n",
    "allData.to_csv('AllData.csv')"
   ]
  },
  {
   "cell_type": "code",
   "execution_count": null,
   "id": "1b5cef94",
   "metadata": {},
   "outputs": [],
   "source": []
  }
 ],
 "metadata": {
  "kernelspec": {
   "display_name": "Python 3",
   "language": "python",
   "name": "python3"
  },
  "language_info": {
   "codemirror_mode": {
    "name": "ipython",
    "version": 3
   },
   "file_extension": ".py",
   "mimetype": "text/x-python",
   "name": "python",
   "nbconvert_exporter": "python",
   "pygments_lexer": "ipython3",
   "version": "3.8.8"
  }
 },
 "nbformat": 4,
 "nbformat_minor": 5
}
