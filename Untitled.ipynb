{
 "cells": [
  {
   "cell_type": "code",
   "execution_count": 6,
   "id": "d5f91404",
   "metadata": {},
   "outputs": [
    {
     "name": "stdout",
     "output_type": "stream",
     "text": [
      "Input length and width for Example1.fna\n",
      "Length: 2\n",
      "Width: 3\n",
      "Input length and width for Example2.fna\n",
      "Length: 4\n",
      "Width: 5\n",
      "\n",
      "\n",
      "For organism in :Example1 file\n",
      "Length: 2\tWidth: 3\n",
      "Number of Genes: 2003803\n",
      "\n",
      "\n",
      "For organism in :Example2 file\n",
      "Length: 4\tWidth: 5\n",
      "Number of Genes: 2003803\n"
     ]
    }
   ],
   "source": [
    "import os\n",
    "import csv\n",
    "\n",
    "class organism:\n",
    "    numGenes = None\n",
    "    length = None\n",
    "    width = None\n",
    "    \n",
    "    def __init__(self, *args):\n",
    "        if len(args) != 3: \n",
    "            raise ValueError('Not enough info to create organism')\n",
    "        self.numGenes = args[0]\n",
    "        self.length = args[1]\n",
    "        self.width = args[2]\n",
    "        \n",
    "myOrganisms = {} #dictionary\n",
    "arr = os.listdir('.\\GenomeFiles\\\\') #list of all genome files\n",
    "\n",
    "for genomeFile in arr:\n",
    "    totletter = 0\n",
    "    with open('.\\GenomeFiles\\\\' + genomeFile) as out_file:\n",
    "        print( 'Input length and width for ' + genomeFile ) #get length and width of organism from user\n",
    "        length = input('Length: ')\n",
    "        width = input('Width: ')\n",
    "        out_file.readline() #throw out top header line\n",
    "        for letters in out_file:\n",
    "            totletter = totletter + len(letters) - 1 #add length of string to total, subtract one for newline\n",
    "        \n",
    "    myOrganisms[genomeFile] = organism(totletter, length, width) #add the organism to the dict\n",
    "    \n",
    "#display all data\n",
    "for organism in myOrganisms:\n",
    "    print()\n",
    "    print()\n",
    "    print(\"For organism in :\" + organism[:-4] + \" file\") #printing out all but last 4 charaters of filename\n",
    "    print(\"Length: \" + str(myOrganisms[organism].length) + \"\\tWidth: \" + str(myOrganisms[organism].width))\n",
    "    print(\"Number of Genes: \" + str(myOrganisms[organism].numGenes))\n",
    "    \n",
    "with open('OrganismData.csv', 'w') as myFile:\n",
    "    myFile.write(\"Organism Name,Number Of Genes,Length,Width\\n\")\n",
    "    for organism in myOrganisms:\n",
    "        myFile.write(organism + ',')\n",
    "        myFile.write(str(myOrganisms[organism].numGenes) + ',')\n",
    "        myFile.write(str(myOrganisms[organism].length) + ',')\n",
    "        myFile.write(str(myOrganisms[organism].width) + '\\n')"
   ]
  },
  {
   "cell_type": "markdown",
   "id": "b59af20c",
   "metadata": {},
   "source": []
  }
 ],
 "metadata": {
  "kernelspec": {
   "display_name": "Python 3",
   "language": "python",
   "name": "python3"
  },
  "language_info": {
   "codemirror_mode": {
    "name": "ipython",
    "version": 3
   },
   "file_extension": ".py",
   "mimetype": "text/x-python",
   "name": "python",
   "nbconvert_exporter": "python",
   "pygments_lexer": "ipython3",
   "version": "3.8.8"
  }
 },
 "nbformat": 4,
 "nbformat_minor": 5
}
